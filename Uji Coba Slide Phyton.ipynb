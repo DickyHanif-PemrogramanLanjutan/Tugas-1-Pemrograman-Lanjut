{
 "cells": [
  {
   "cell_type": "code",
   "execution_count": 9,
   "metadata": {},
   "outputs": [
    {
     "name": "stdout",
     "output_type": "stream",
     "text": [
      "Welcome to Python!\n",
      "7\n"
     ]
    }
   ],
   "source": [
    "print ('Welcome to Python!')\n",
    "my_int = 7\n",
    "print (my_int)"
   ]
  },
  {
   "cell_type": "code",
   "execution_count": 11,
   "metadata": {},
   "outputs": [
    {
     "name": "stdout",
     "output_type": "stream",
     "text": [
      "12\n"
     ]
    }
   ],
   "source": [
    "def spam():\n",
    "  eggs = 12\n",
    "  return eggs\n",
    "  \n",
    "print (spam())"
   ]
  },
  {
   "cell_type": "code",
   "execution_count": 12,
   "metadata": {},
   "outputs": [
    {
     "name": "stdout",
     "output_type": "stream",
     "text": [
      "11000.6\n"
     ]
    }
   ],
   "source": [
    "count_to = 5000 + 6000.6\n",
    "print (count_to)"
   ]
  },
  {
   "cell_type": "code",
   "execution_count": 13,
   "metadata": {},
   "outputs": [
    {
     "name": "stdout",
     "output_type": "stream",
     "text": [
      "54.63\n"
     ]
    }
   ],
   "source": [
    "meal = 44.50\n",
    "# 6.75%\n",
    "tax = 0.0675\n",
    "# 15%\n",
    "tip = 0.15\n",
    "meal = meal + meal * tax\n",
    "total = meal + meal * tip\n",
    "print(\"%.2f\" % total)"
   ]
  },
  {
   "cell_type": "code",
   "execution_count": 15,
   "metadata": {},
   "outputs": [
    {
     "name": "stdout",
     "output_type": "stream",
     "text": [
      "indonesia\n",
      "INDONESIA\n",
      "3.14\n"
     ]
    }
   ],
   "source": [
    "parrot = \"Indonesia\"\n",
    "print (parrot.lower()) \n",
    "print (parrot.upper())\n",
    "pi = 3.14\n",
    "print (str(pi))"
   ]
  },
  {
   "cell_type": "code",
   "execution_count": 16,
   "metadata": {},
   "outputs": [
    {
     "name": "stdout",
     "output_type": "stream",
     "text": [
      "What is your name?Dicky\n",
      "What is your quest?Knowledge\n",
      "What is your favorite color?White\n",
      "Ah, so your name is Dicky, your quest is Knowledge, and your favorite color is White.\n"
     ]
    }
   ],
   "source": [
    "name = input(\"What is your name?\")\n",
    "quest = input(\"What is your quest?\")\n",
    "color = input(\"What is your favorite color?\")\n",
    "print (\"Ah, so your name is %s, your quest is %s, and your favorite color is %s.\" % (name, quest, color))"
   ]
  },
  {
   "cell_type": "code",
   "execution_count": 18,
   "metadata": {},
   "outputs": [
    {
     "name": "stdout",
     "output_type": "stream",
     "text": [
      "2019-10-13 14:25:36.760182\n",
      "2019\n",
      "10\n",
      "13\n",
      "2019-10-13\n",
      "13/10/2019\n",
      "14\n",
      "25\n",
      "36\n",
      "14:25:36\n",
      "13/10/2019 14:25:36\n"
     ]
    }
   ],
   "source": [
    "from datetime import datetime\n",
    "now = datetime.now()\n",
    "print (now)\n",
    "# member, bukan method\n",
    "print (now.year)\n",
    "print (now.month)\n",
    "print (now.day)\n",
    "print ('%s-%s-%s' % (now.year, now.month, now.day))\n",
    "print ('%s/%s/%s' % (now.day, now.month, now.year))\n",
    "print (now.hour)\n",
    "print (now.minute)\n",
    "print (now.second)\n",
    "print ('%s:%s:%s' % (now.hour, now.minute, now.second))\n",
    "print ('%s/%s/%s %s:%s:%s' % (now.day, now.month, now.year,now.hour, now.minute, now.second))"
   ]
  },
  {
   "cell_type": "code",
   "execution_count": 19,
   "metadata": {},
   "outputs": [
    {
     "name": "stdout",
     "output_type": "stream",
     "text": [
      "You've just entered the clinic!\n",
      "Do you take the door on the left or the right?\n",
      "Type left or right and hit 'Enter'.House\n",
      "You didn't pick left or right! Try again.\n",
      "You've just entered the clinic!\n",
      "Do you take the door on the left or the right?\n",
      "Type left or right and hit 'Enter'.right\n",
      "Of course this is the Argument Room, I've told you that already!\n"
     ]
    }
   ],
   "source": [
    "# raw_input\n",
    "def clinic():\n",
    "    print (\"You've just entered the clinic!\")\n",
    "    print (\"Do you take the door on the left or the right?\")\n",
    "    answer = input(\"Type left or right and hit 'Enter'.\").lower()\n",
    "    if answer == \"left\" or answer == \"l\":\n",
    "        print (\"This is the Verbal Abuse Room, you heap of parrot droppings!\")\n",
    "    elif answer == \"right\" or answer == \"r\":\n",
    "        print (\"Of course this is the Argument Room, I've told you that already!\")\n",
    "    else:\n",
    "        print (\"You didn't pick left or right! Try again.\")\n",
    "        clinic()\n",
    "clinic()"
   ]
  },
  {
   "cell_type": "code",
   "execution_count": 20,
   "metadata": {},
   "outputs": [
    {
     "name": "stdout",
     "output_type": "stream",
     "text": [
      "False\n"
     ]
    }
   ],
   "source": [
    "bool_one   = False or not True and True\n",
    "print (bool_one)"
   ]
  },
  {
   "cell_type": "code",
   "execution_count": 21,
   "metadata": {},
   "outputs": [
    {
     "name": "stdout",
     "output_type": "stream",
     "text": [
      "This is the Verbal Abuse Room, you heap of parrot droppings!\n",
      "Success #1\n",
      "Success #2\n"
     ]
    }
   ],
   "source": [
    "answer = \"Left\"\n",
    "if answer == \"Left\":\n",
    "    print (\"This is the Verbal Abuse Room, you heap of parrot droppings!\")\n",
    "\n",
    "def using_control_once():\n",
    "    if True:\n",
    "        return \"Success #1\"\n",
    "def using_control_again():\n",
    "    if True:\n",
    "        return \"Success #2\"\n",
    "\n",
    "print (using_control_once())\n",
    "print (using_control_again())"
   ]
  },
  {
   "cell_type": "code",
   "execution_count": 22,
   "metadata": {},
   "outputs": [
    {
     "name": "stdout",
     "output_type": "stream",
     "text": [
      "Welcome to the Pig Latin Translator!\n",
      "Enter a word:Life\n",
      "Life\n"
     ]
    }
   ],
   "source": [
    "print ('Welcome to the Pig Latin Translator!')\n",
    "original = input(\"Enter a word:\")\n",
    "if len(original) > 0 and original.isalpha():\n",
    "    print (original)\n",
    "else:\n",
    "    print (\"empty\")"
   ]
  },
  {
   "cell_type": "code",
   "execution_count": 23,
   "metadata": {},
   "outputs": [
    {
     "name": "stdout",
     "output_type": "stream",
     "text": [
      "['__doc__', '__loader__', '__name__', '__package__', '__spec__', 'acos', 'acosh', 'asin', 'asinh', 'atan', 'atan2', 'atanh', 'ceil', 'copysign', 'cos', 'cosh', 'degrees', 'e', 'erf', 'erfc', 'exp', 'expm1', 'fabs', 'factorial', 'floor', 'fmod', 'frexp', 'fsum', 'gamma', 'gcd', 'hypot', 'inf', 'isclose', 'isfinite', 'isinf', 'isnan', 'ldexp', 'lgamma', 'log', 'log10', 'log1p', 'log2', 'modf', 'nan', 'pi', 'pow', 'radians', 'remainder', 'sin', 'sinh', 'sqrt', 'tan', 'tanh', 'tau', 'trunc']\n"
     ]
    }
   ],
   "source": [
    "import math            \n",
    "everything = dir(math) # Sets everything to a list of things from math\n",
    "print (everything)"
   ]
  },
  {
   "cell_type": "code",
   "execution_count": 24,
   "metadata": {},
   "outputs": [
    {
     "name": "stdout",
     "output_type": "stream",
     "text": [
      "10\n",
      "-10\n",
      "10\n",
      "6\n"
     ]
    }
   ],
   "source": [
    "def biggest_number(*args):\n",
    "    print (max(args))\n",
    "    return max(args)\n",
    "def smallest_number(*args):\n",
    "    print (min(args))\n",
    "    return min(args)\n",
    "def distance_from_zero(arg):\n",
    "    print (abs(arg))\n",
    "    return abs(arg)\n",
    "biggest_number(-10, -5, 5, 10)\n",
    "smallest_number(-10, -5, 5, 10)\n",
    "distance_from_zero(-10)\n",
    "# ---\n",
    "maximum = max(2.3,4.1,6)\n",
    "minimum = min(2.3,4.1,6)\n",
    "absolute = abs(-42)\n",
    "print (maximum)"
   ]
  },
  {
   "cell_type": "code",
   "execution_count": 25,
   "metadata": {},
   "outputs": [
    {
     "name": "stdout",
     "output_type": "stream",
     "text": [
      "1955\n"
     ]
    }
   ],
   "source": [
    "def hotel_cost(nights): return 140*nights\n",
    "def plane_ride_cost(city):\n",
    "    if city==\"Charlotte\": return 183\n",
    "    elif city==\"Tampa\": return 220\n",
    "    elif city==\"Pittsburgh\": return 222\n",
    "    elif city==\"Los Angeles\": return 475\n",
    "def rental_car_cost(days):\n",
    "    costperday = 40\n",
    "    if days >= 7: total = days * costperday - 50\n",
    "    elif days >=3: total = days * costperday - 20\n",
    "    else: total = days * costperday\n",
    "    return total\n",
    "def trip_cost(city,days,spending_money):\n",
    "    return rental_car_cost(days)+hotel_cost(days)+plane_ride_cost(city)+spending_money\n",
    "print (trip_cost(\"Los Angeles\",5,600))"
   ]
  },
  {
   "cell_type": "code",
   "execution_count": 26,
   "metadata": {},
   "outputs": [
    {
     "name": "stdout",
     "output_type": "stream",
     "text": [
      "There are 13 items in the suitcase.\n",
      "['s', 'u', 'n', 'g', 'l', 'a', 's', 's', 'e', 's', 'a', 'b', 'c']\n"
     ]
    }
   ],
   "source": [
    "suitcase = [] \n",
    "suitcase.extend(\"sunglasses\")\n",
    "# Your code here!\n",
    "suitcase.extend('a')\n",
    "suitcase.extend('b')\n",
    "suitcase.extend('c')\n",
    "list_length = len(suitcase) # Set this to the length of suitcase\n",
    "print (\"There are %d items in the suitcase.\" % (list_length))\n",
    "print (suitcase)"
   ]
  },
  {
   "cell_type": "code",
   "execution_count": 27,
   "metadata": {},
   "outputs": [
    {
     "name": "stdout",
     "output_type": "stream",
     "text": [
      "['aardvark', 'badger', 'cobra', 'duck', 'emu', 'fennec fox']\n"
     ]
    }
   ],
   "source": [
    "animals = [\"aardvark\", \"badger\", \"duck\", \"emu\", \"fennec fox\"]\n",
    "duck_index = animals.index(\"duck\")   # Use index() to find \"duck\"\n",
    "# Your code here!\n",
    "animals.insert(duck_index,\"cobra\")\n",
    "print (animals)"
   ]
  },
  {
   "cell_type": "code",
   "execution_count": 28,
   "metadata": {},
   "outputs": [
    {
     "name": "stdout",
     "output_type": "stream",
     "text": [
      "2\n",
      "18\n",
      "6\n",
      "16\n",
      "10\n",
      "14\n",
      "[1, 4, 9, 16, 25]\n"
     ]
    }
   ],
   "source": [
    "my_list = [1,9,3,8,5,7]\n",
    "for number in my_list: print (2*number)\n",
    "# 2    \n",
    "# .sort\n",
    "start_list = [5, 3, 1, 2, 4]\n",
    "square_list = []\n",
    "for num in start_list:\n",
    "    square_list.append(num**2)\n",
    "square_list.sort()\n",
    "print (square_list)"
   ]
  },
  {
   "cell_type": "code",
   "execution_count": 29,
   "metadata": {},
   "outputs": [
    {
     "name": "stdout",
     "output_type": "stream",
     "text": [
      "14.5\n",
      "There are 4 items on the menu.\n",
      "{'Chicken Alfredo': 14.5, 'karedok': 2.2, 'lotek': 2.3, 'rujak': 3.3}\n"
     ]
    }
   ],
   "source": [
    "menu = {} # Empty dictionary\n",
    "menu['Chicken Alfredo'] = 14.50 # Adding new key-value pair\n",
    "print (menu['Chicken Alfredo'])\n",
    "# append\n",
    "menu['karedok'] = 2.2\n",
    "menu['lotek'] = 2.3\n",
    "menu['rujak'] = 3.3\n",
    "print (\"There are \" + str(len(menu)) + \" items on the menu.\")\n",
    "print (menu)"
   ]
  },
  {
   "cell_type": "code",
   "execution_count": 30,
   "metadata": {},
   "outputs": [
    {
     "name": "stdout",
     "output_type": "stream",
     "text": [
      "{'gold': 550, 'pouch': ['flint', 'gemstone', 'twine'], 'backpack': ['bedroll', 'bread loaf', 'xylophone'], 'burlap bag': ['apple', 'small ruby', 'three-toed sloth'], 'pocket': ['seashell', 'strange berry', 'lint']}\n"
     ]
    }
   ],
   "source": [
    "inventory = {\n",
    "     'gold' : 500,\n",
    "     'pouch' : ['flint', 'twine', 'gemstone'], # Assigned a new list to 'pouch' key\n",
    "     'backpack' : ['xylophone','dagger', 'bedroll','bread loaf']\n",
    "}\n",
    "# Adding a key 'burlap bag' and assigning a list to it\n",
    "inventory['burlap bag'] = ['apple', 'small ruby', 'three-toed sloth']\n",
    "# Sorting the list found under the key 'pouch'\n",
    "inventory['pouch'].sort() \n",
    "inventory['pocket']=['seashell','strange berry','lint']\n",
    "inventory['backpack'].sort()\n",
    "inventory['backpack'].remove('dagger')\n",
    "inventory['gold'] += 50\n",
    "print (inventory)"
   ]
  },
  {
   "cell_type": "code",
   "execution_count": 31,
   "metadata": {},
   "outputs": [
    {
     "name": "stdout",
     "output_type": "stream",
     "text": [
      "Adam\n",
      "Alex\n",
      "Mariah\n",
      "Martine\n",
      "Columbus\n",
      "A star of a popular children's cartoon show.\n",
      "The sound a goat makes.\n",
      "Goes on the floor.\n",
      "A small amount.\n"
     ]
    }
   ],
   "source": [
    "names = [\"Adam\",\"Alex\",\"Mariah\",\"Martine\",\"Columbus\"]\n",
    "for item in names: print (item)\n",
    "webster = {\n",
    "     \"Aardvark\" : \"A star of a popular children's cartoon show.\",\n",
    "     \"Baa\" : \"The sound a goat makes.\",\n",
    "     \"Carpet\": \"Goes on the floor.\",\n",
    "     \"Dab\": \"A small amount.\"\n",
    "}\n",
    "for key in webster:\n",
    "    print (webster[key])"
   ]
  },
  {
   "cell_type": "code",
   "execution_count": 32,
   "metadata": {},
   "outputs": [
    {
     "name": "stdout",
     "output_type": "stream",
     "text": [
      "C\n",
      "o\n",
      "d\n",
      "e\n",
      "c\n",
      "a\n",
      "d\n",
      "e\n",
      "m\n",
      "y\n",
      "i\n",
      "i\n"
     ]
    }
   ],
   "source": [
    "for letter in \"Codecademy\": print (letter)\n",
    "# Empty lines to make the output pretty\n",
    "print\n",
    "word = \"Programming is fun!\"\n",
    "for letter in word:\n",
    "    # Only print out the letter i\n",
    "    if letter == \"i\": print (letter)"
   ]
  },
  {
   "cell_type": "code",
   "execution_count": 33,
   "metadata": {},
   "outputs": [
    {
     "name": "stdout",
     "output_type": "stream",
     "text": [
      "banana\n",
      "price: 4\n",
      "stock: 6\n",
      "apple\n",
      "price: 2\n",
      "stock: 0\n",
      "orange\n",
      "price: 1.5\n",
      "stock: 32\n",
      "pear\n",
      "price: 3\n",
      "stock: 15\n"
     ]
    }
   ],
   "source": [
    "prices = {\n",
    "     \"banana\": 4,\n",
    "\"apple\": 2,\n",
    "  \"orange\": 1.5,\n",
    "\"pear\": 3\n",
    "    }\n",
    "stock = {\n",
    "  \"banana\": 6,\n",
    "  \"apple\": 0,\n",
    "  \"orange\": 32,\n",
    "  \"pear\": 15    \n",
    "}\n",
    "for key in stock:\n",
    "    print (key)\n",
    "    print (\"price: %s\" % prices[key])\n",
    "    print (\"stock: %s\" % stock[key])"
   ]
  },
  {
   "cell_type": "code",
   "execution_count": 37,
   "metadata": {},
   "outputs": [
    {
     "name": "stdout",
     "output_type": "stream",
     "text": [
      "Lloyd\n",
      "[90.0, 97.0, 75.0, 92.0]\n",
      "[88.0, 40.0, 94.0]\n",
      "[75.0, 90.0]\n",
      "Alice\n",
      "[100.0, 92.0, 98.0, 100.0]\n",
      "[82.0, 83.0, 91.0]\n",
      "[89.0, 97.0]\n",
      "Tyler\n",
      "[0.0, 87.0, 75.0, 22.0]\n",
      "[0.0, 75.0, 78.0]\n",
      "[100.0, 100.0]\n"
     ]
    }
   ],
   "source": [
    "lloyd = {\n",
    "    \"name\": \"Lloyd\",\n",
    "    \"homework\": [90.0, 97.0, 75.0, 92.0],\n",
    "    \"quizzes\": [88.0, 40.0, 94.0],\n",
    "    \"tests\": [75.0, 90.0]\n",
    "}\n",
    "alice = {\n",
    "    \"name\": \"Alice\", \"homework\": [100.0, 92.0, 98.0, 100.0],\n",
    "    \"quizzes\": [82.0, 83.0, 91.0], \"tests\": [89.0, 97.0]\n",
    "}\n",
    "tyler = {\n",
    "    \"name\": \"Tyler\", \"homework\": [0.0, 87.0, 75.0, 22.0],\n",
    "    \"quizzes\": [0.0, 75.0, 78.0], \"tests\": [100.0, 100.0]\n",
    "}\n",
    "students = [lloyd,alice,tyler]\n",
    "for student in students:\n",
    "    print (student['name'])\n",
    "    print (student['homework'])\n",
    "    print (student['quizzes'])\n",
    "    print (student['tests'])"
   ]
  },
  {
   "cell_type": "code",
   "execution_count": 39,
   "metadata": {},
   "outputs": [
    {
     "name": "stdout",
     "output_type": "stream",
     "text": [
      "83.86666666666666\n",
      "B\n"
     ]
    }
   ],
   "source": [
    "lloyd = { \"name\": \"Lloyd\", \"homework\": [90.0, 97.0, 75.0, 92.0],\n",
    "          \"quizzes\": [88.0, 40.0, 94.0], \"tests\": [75.0, 90.0] }\n",
    "alice = { \"name\": \"Alice\", \"homework\": [100.0, 92.0, 98.0, 100.0],\n",
    "          \"quizzes\": [82.0, 83.0, 91.0], \"tests\": [89.0, 97.0] }\n",
    "tyler = { \"name\": \"Tyler\", \"homework\": [0.0, 87.0, 75.0, 22.0],\n",
    "          \"quizzes\": [0.0, 75.0, 78.0], \"tests\": [100.0, 100.0] }\n",
    "# ---\n",
    "def average(numbers):\n",
    "    total = sum(numbers)\n",
    "    total = float(total)\n",
    "    return total/len(numbers)\n",
    "def get_average(student):\n",
    "    homework = average(student['homework'])\n",
    "    quizzes = average(student['quizzes'])\n",
    "    tests = average(student['tests'])\n",
    "    return 0.1*homework + 0.3*quizzes + 0.6*tests\n",
    "def get_letter_grade(score):\n",
    "    if score >= 90: return \"A\"\n",
    "    elif score >= 80: return \"B\"\n",
    "    elif score >= 70: return \"C\"\n",
    "    elif score >=60: return \"D\"\n",
    "    else: return \"F\"\n",
    "def get_class_average(students):\n",
    "    results = []\n",
    "    for student in students: results.append(get_average(student))\n",
    "    return average(results)\n",
    "students=[lloyd,alice,tyler]\n",
    "print (get_class_average(students))\n",
    "print (get_letter_grade(get_class_average(students)))"
   ]
  },
  {
   "cell_type": "code",
   "execution_count": 40,
   "metadata": {},
   "outputs": [
    {
     "name": "stdout",
     "output_type": "stream",
     "text": [
      "[3, 5]\n"
     ]
    }
   ],
   "source": [
    "n = [1, 3, 5]\n",
    "# Remove the first item in the list here\n",
    "n.pop(0) \n",
    "# atau del(n[0]) \n",
    "# n.remove(1) value 1, bukan index\n",
    "# pop nge-return value, del void\n",
    "print (n)"
   ]
  },
  {
   "cell_type": "code",
   "execution_count": null,
   "metadata": {},
   "outputs": [],
   "source": []
  }
 ],
 "metadata": {
  "kernelspec": {
   "display_name": "Python 3",
   "language": "python",
   "name": "python3"
  }
 },
 "nbformat": 4,
 "nbformat_minor": 2
}
