{
 "cells": [
  {
   "cell_type": "code",
   "execution_count": 61,
   "metadata": {},
   "outputs": [],
   "source": [
    "import numpy as np \n",
    "import pandas as pd\n",
    "from sklearn.tree import DecisionTreeClassifier"
   ]
  },
  {
   "cell_type": "code",
   "execution_count": 62,
   "metadata": {},
   "outputs": [
    {
     "data": {
      "text/html": [
       "<div>\n",
       "<style scoped>\n",
       "    .dataframe tbody tr th:only-of-type {\n",
       "        vertical-align: middle;\n",
       "    }\n",
       "\n",
       "    .dataframe tbody tr th {\n",
       "        vertical-align: top;\n",
       "    }\n",
       "\n",
       "    .dataframe thead th {\n",
       "        text-align: right;\n",
       "    }\n",
       "</style>\n",
       "<table border=\"1\" class=\"dataframe\">\n",
       "  <thead>\n",
       "    <tr style=\"text-align: right;\">\n",
       "      <th></th>\n",
       "      <th>Jenis Barang</th>\n",
       "      <th>Jenis Sampah</th>\n",
       "      <th>Penjelasan</th>\n",
       "      <th>Metode Pengelolaan</th>\n",
       "      <th>Cara Pengelolaan</th>\n",
       "    </tr>\n",
       "  </thead>\n",
       "  <tbody>\n",
       "    <tr>\n",
       "      <th>0</th>\n",
       "      <td>Batok Kelapa</td>\n",
       "      <td>Organik</td>\n",
       "      <td>Sampah organik adalah sampah yang bisa mengala...</td>\n",
       "      <td>Metode Kascing</td>\n",
       "      <td>1. Media yang digunakan dalam metode kascing i...</td>\n",
       "    </tr>\n",
       "    <tr>\n",
       "      <th>1</th>\n",
       "      <td>Bayam</td>\n",
       "      <td>Organik</td>\n",
       "      <td>Sampah organik adalah sampah yang bisa mengala...</td>\n",
       "      <td>Metode Kascing</td>\n",
       "      <td>1. Media yang digunakan dalam metode kascing i...</td>\n",
       "    </tr>\n",
       "    <tr>\n",
       "      <th>2</th>\n",
       "      <td>Biji Kurma</td>\n",
       "      <td>Organik</td>\n",
       "      <td>Sampah organik adalah sampah yang bisa mengala...</td>\n",
       "      <td>Metode Kascing</td>\n",
       "      <td>1. Media yang digunakan dalam metode kascing i...</td>\n",
       "    </tr>\n",
       "    <tr>\n",
       "      <th>3</th>\n",
       "      <td>Cangkang telur</td>\n",
       "      <td>Organik</td>\n",
       "      <td>Sampah organik adalah sampah yang bisa mengala...</td>\n",
       "      <td>Metode Kascing</td>\n",
       "      <td>1. Media yang digunakan dalam metode kascing i...</td>\n",
       "    </tr>\n",
       "  </tbody>\n",
       "</table>\n",
       "</div>"
      ],
      "text/plain": [
       "     Jenis Barang Jenis Sampah  \\\n",
       "0    Batok Kelapa      Organik   \n",
       "1           Bayam      Organik   \n",
       "2      Biji Kurma      Organik   \n",
       "3  Cangkang telur      Organik   \n",
       "\n",
       "                                          Penjelasan Metode Pengelolaan  \\\n",
       "0  Sampah organik adalah sampah yang bisa mengala...     Metode Kascing   \n",
       "1  Sampah organik adalah sampah yang bisa mengala...     Metode Kascing   \n",
       "2  Sampah organik adalah sampah yang bisa mengala...     Metode Kascing   \n",
       "3  Sampah organik adalah sampah yang bisa mengala...     Metode Kascing   \n",
       "\n",
       "                                    Cara Pengelolaan  \n",
       "0  1. Media yang digunakan dalam metode kascing i...  \n",
       "1  1. Media yang digunakan dalam metode kascing i...  \n",
       "2  1. Media yang digunakan dalam metode kascing i...  \n",
       "3  1. Media yang digunakan dalam metode kascing i...  "
      ]
     },
     "execution_count": 62,
     "metadata": {},
     "output_type": "execute_result"
    }
   ],
   "source": [
    "my_data = pd.read_excel(\"smart.xlsx\")\n",
    "my_data[0:4]"
   ]
  },
  {
   "cell_type": "code",
   "execution_count": 63,
   "metadata": {},
   "outputs": [
    {
     "data": {
      "text/plain": [
       "array([['Batok Kelapa', 'Organik',\n",
       "        'Sampah organik adalah sampah yang bisa mengalami pelapukan (dekomposisi) dan terurai menjadi bahan yang lebih kecil dan tidak berbau (sering disebut dengan kompos).',\n",
       "        'Metode Kascing',\n",
       "        \"1. Media yang digunakan dalam metode kascing itu menggunakan tanah, kompos, dan kotoran hewan (misal kotoran sapi) dengan perbandingan 1 : 1 : 3; 2. Setelah semua diaduk, media tersebut dimasukkan ke dalam wadah dengan ditambahkan air, sehingga kadar air media menjadi 55%. ; 3. Barulah setelah itu, cacing tanah (cacing kalung) ditambahkan ke dalam media dengan jarak 5 cm.; 4. Tinggi media tidak boleh lebih dari 60 cm. Sebab perlu diingat bahwa cacing itu sifatnya sering masuk dan ke luar dari tanah untuk bernapas.; 5. Kisaran masuk ke dalam tanahnya itu sekitar 60 cm. Lebih dari itu, cacing tidak mau. Jadi kemungkinan besar, media yang berada di bawah 60 cm dari permukaan, tidak akan 'diolah' cacing.; 6. Sekitar 2 hari dari penambahan cacing, kascing sudah bisa dipanen.\"],\n",
       "       ['Bayam', 'Organik',\n",
       "        'Sampah organik adalah sampah yang bisa mengalami pelapukan (dekomposisi) dan terurai menjadi bahan yang lebih kecil dan tidak berbau (sering disebut dengan kompos).',\n",
       "        'Metode Kascing',\n",
       "        \"1. Media yang digunakan dalam metode kascing itu menggunakan tanah, kompos, dan kotoran hewan (misal kotoran sapi) dengan perbandingan 1 : 1 : 3; 2. Setelah semua diaduk, media tersebut dimasukkan ke dalam wadah dengan ditambahkan air, sehingga kadar air media menjadi 55%. ; 3. Barulah setelah itu, cacing tanah (cacing kalung) ditambahkan ke dalam media dengan jarak 5 cm.; 4. Tinggi media tidak boleh lebih dari 60 cm. Sebab perlu diingat bahwa cacing itu sifatnya sering masuk dan ke luar dari tanah untuk bernapas.; 5. Kisaran masuk ke dalam tanahnya itu sekitar 60 cm. Lebih dari itu, cacing tidak mau. Jadi kemungkinan besar, media yang berada di bawah 60 cm dari permukaan, tidak akan 'diolah' cacing.; 6. Sekitar 2 hari dari penambahan cacing, kascing sudah bisa dipanen.\"],\n",
       "       ['Biji Kurma', 'Organik',\n",
       "        'Sampah organik adalah sampah yang bisa mengalami pelapukan (dekomposisi) dan terurai menjadi bahan yang lebih kecil dan tidak berbau (sering disebut dengan kompos).',\n",
       "        'Metode Kascing',\n",
       "        \"1. Media yang digunakan dalam metode kascing itu menggunakan tanah, kompos, dan kotoran hewan (misal kotoran sapi) dengan perbandingan 1 : 1 : 3; 2. Setelah semua diaduk, media tersebut dimasukkan ke dalam wadah dengan ditambahkan air, sehingga kadar air media menjadi 55%. ; 3. Barulah setelah itu, cacing tanah (cacing kalung) ditambahkan ke dalam media dengan jarak 5 cm.; 4. Tinggi media tidak boleh lebih dari 60 cm. Sebab perlu diingat bahwa cacing itu sifatnya sering masuk dan ke luar dari tanah untuk bernapas.; 5. Kisaran masuk ke dalam tanahnya itu sekitar 60 cm. Lebih dari itu, cacing tidak mau. Jadi kemungkinan besar, media yang berada di bawah 60 cm dari permukaan, tidak akan 'diolah' cacing.; 6. Sekitar 2 hari dari penambahan cacing, kascing sudah bisa dipanen.\"],\n",
       "       ['Cangkang telur', 'Organik',\n",
       "        'Sampah organik adalah sampah yang bisa mengalami pelapukan (dekomposisi) dan terurai menjadi bahan yang lebih kecil dan tidak berbau (sering disebut dengan kompos).',\n",
       "        'Metode Kascing',\n",
       "        \"1. Media yang digunakan dalam metode kascing itu menggunakan tanah, kompos, dan kotoran hewan (misal kotoran sapi) dengan perbandingan 1 : 1 : 3; 2. Setelah semua diaduk, media tersebut dimasukkan ke dalam wadah dengan ditambahkan air, sehingga kadar air media menjadi 55%. ; 3. Barulah setelah itu, cacing tanah (cacing kalung) ditambahkan ke dalam media dengan jarak 5 cm.; 4. Tinggi media tidak boleh lebih dari 60 cm. Sebab perlu diingat bahwa cacing itu sifatnya sering masuk dan ke luar dari tanah untuk bernapas.; 5. Kisaran masuk ke dalam tanahnya itu sekitar 60 cm. Lebih dari itu, cacing tidak mau. Jadi kemungkinan besar, media yang berada di bawah 60 cm dari permukaan, tidak akan 'diolah' cacing.; 6. Sekitar 2 hari dari penambahan cacing, kascing sudah bisa dipanen.\"]],\n",
       "      dtype=object)"
      ]
     },
     "execution_count": 63,
     "metadata": {},
     "output_type": "execute_result"
    }
   ],
   "source": [
    "X = my_data[['Jenis Barang', 'Jenis Sampah', 'Penjelasan', 'Metode Pengelolaan', 'Cara Pengelolaan']].values\n",
    "X[0:4]"
   ]
  },
  {
   "cell_type": "code",
   "execution_count": 64,
   "metadata": {},
   "outputs": [
    {
     "data": {
      "text/plain": [
       "array([[3, 1, 1, 1, 1],\n",
       "       [6, 1, 1, 1, 1],\n",
       "       [8, 1, 1, 1, 1],\n",
       "       [15, 1, 1, 1, 1],\n",
       "       [16, 1, 1, 1, 1]], dtype=object)"
      ]
     },
     "execution_count": 64,
     "metadata": {},
     "output_type": "execute_result"
    }
   ],
   "source": [
    "from sklearn import preprocessing\n",
    "le_jenis = preprocessing.LabelEncoder()\n",
    "le_jenis.fit(my_data['Jenis Sampah'].values)\n",
    "X[:,1] = le_jenis.transform(X[:,1]) \n",
    "\n",
    "\n",
    "le_metodeO = preprocessing.LabelEncoder()\n",
    "le_metodeO.fit(my_data['Metode Pengelolaan'].values)\n",
    "X[:,3] = le_metodeO.transform(X[:,3])\n",
    "\n",
    "le_langkah = preprocessing.LabelEncoder()\n",
    "le_langkah.fit(my_data['Cara Pengelolaan'].values)\n",
    "X[:,4] = le_langkah.transform(X[:,4])\n",
    "\n",
    "le_barang = preprocessing.LabelEncoder()\n",
    "le_barang.fit(my_data['Jenis Barang'].values)\n",
    "X[:,0] = le_barang.transform(X[:,0])\n",
    "\n",
    "le_kata = preprocessing.LabelEncoder()\n",
    "le_kata.fit(my_data['Penjelasan'].values)\n",
    "X[:,2] = le_kata.transform(X[:,2])\n",
    " \n",
    "\n",
    "X[0:5]"
   ]
  },
  {
   "cell_type": "code",
   "execution_count": 65,
   "metadata": {},
   "outputs": [
    {
     "data": {
      "text/plain": [
       "0    1. Media yang digunakan dalam metode kascing i...\n",
       "1    1. Media yang digunakan dalam metode kascing i...\n",
       "2    1. Media yang digunakan dalam metode kascing i...\n",
       "3    1. Media yang digunakan dalam metode kascing i...\n",
       "Name: Cara Pengelolaan, dtype: object"
      ]
     },
     "execution_count": 65,
     "metadata": {},
     "output_type": "execute_result"
    }
   ],
   "source": [
    "y = my_data[\"Cara Pengelolaan\"]\n",
    "y[0:4]"
   ]
  },
  {
   "cell_type": "code",
   "execution_count": 66,
   "metadata": {},
   "outputs": [],
   "source": [
    "from sklearn.model_selection import train_test_split"
   ]
  },
  {
   "cell_type": "code",
   "execution_count": 67,
   "metadata": {},
   "outputs": [],
   "source": [
    "X_trainset, X_testset, y_trainset, y_testset = train_test_split(X, y, test_size=0.3, random_state=3)"
   ]
  },
  {
   "cell_type": "code",
   "execution_count": 68,
   "metadata": {},
   "outputs": [
    {
     "data": {
      "text/plain": [
       "array([[74, 0, 0, 4, 5],\n",
       "       [5, 1, 1, 3, 0],\n",
       "       [19, 0, 0, 4, 5],\n",
       "       [107, 1, 1, 3, 0],\n",
       "       [58, 1, 1, 2, 2],\n",
       "       [93, 0, 0, 0, 4],\n",
       "       [41, 1, 1, 2, 2],\n",
       "       [59, 1, 1, 2, 2],\n",
       "       [101, 1, 1, 3, 0],\n",
       "       [39, 1, 1, 2, 2],\n",
       "       [81, 0, 0, 4, 5],\n",
       "       [27, 1, 1, 3, 0],\n",
       "       [60, 1, 1, 2, 2],\n",
       "       [30, 1, 1, 3, 0],\n",
       "       [44, 1, 1, 2, 2],\n",
       "       [55, 1, 1, 2, 2],\n",
       "       [63, 1, 1, 3, 0],\n",
       "       [64, 1, 1, 3, 0],\n",
       "       [84, 0, 0, 0, 4],\n",
       "       [96, 0, 0, 5, 3],\n",
       "       [103, 1, 1, 3, 0],\n",
       "       [32, 1, 1, 3, 0],\n",
       "       [72, 0, 0, 0, 4],\n",
       "       [82, 0, 0, 5, 3],\n",
       "       [29, 0, 0, 0, 4],\n",
       "       [100, 1, 1, 3, 0],\n",
       "       [17, 1, 1, 3, 0],\n",
       "       [23, 0, 0, 0, 4],\n",
       "       [78, 1, 1, 3, 0],\n",
       "       [83, 0, 0, 5, 3],\n",
       "       [76, 0, 0, 5, 3],\n",
       "       [79, 0, 0, 0, 4],\n",
       "       [46, 1, 1, 2, 2],\n",
       "       [90, 1, 1, 3, 0],\n",
       "       [25, 0, 0, 5, 3],\n",
       "       [104, 1, 1, 3, 0],\n",
       "       [56, 1, 1, 2, 2],\n",
       "       [24, 0, 0, 5, 3],\n",
       "       [14, 1, 1, 3, 0],\n",
       "       [2, 0, 0, 4, 5],\n",
       "       [65, 1, 1, 3, 0],\n",
       "       [28, 1, 1, 3, 0],\n",
       "       [61, 1, 1, 2, 2],\n",
       "       [88, 1, 1, 3, 0],\n",
       "       [29, 1, 1, 1, 1],\n",
       "       [89, 1, 1, 3, 0],\n",
       "       [35, 0, 0, 5, 3],\n",
       "       [57, 1, 1, 2, 2],\n",
       "       [4, 1, 1, 3, 0],\n",
       "       [12, 1, 1, 3, 0],\n",
       "       [6, 1, 1, 1, 1],\n",
       "       [98, 1, 1, 3, 0],\n",
       "       [91, 1, 1, 3, 0],\n",
       "       [8, 1, 1, 1, 1],\n",
       "       [21, 1, 1, 3, 0],\n",
       "       [50, 1, 1, 2, 2],\n",
       "       [0, 0, 0, 4, 5],\n",
       "       [77, 0, 0, 0, 4],\n",
       "       [54, 1, 1, 2, 2],\n",
       "       [42, 1, 1, 2, 2],\n",
       "       [67, 1, 1, 3, 0],\n",
       "       [71, 0, 0, 4, 5],\n",
       "       [94, 1, 1, 3, 0],\n",
       "       [48, 1, 1, 2, 2],\n",
       "       [109, 0, 0, 4, 5],\n",
       "       [66, 1, 1, 3, 0],\n",
       "       [70, 0, 0, 5, 3],\n",
       "       [38, 1, 1, 1, 1],\n",
       "       [69, 1, 1, 3, 0],\n",
       "       [31, 1, 1, 3, 0],\n",
       "       [47, 1, 1, 2, 2],\n",
       "       [49, 1, 1, 2, 2],\n",
       "       [3, 1, 1, 1, 1],\n",
       "       [33, 1, 1, 3, 0],\n",
       "       [102, 1, 1, 3, 0],\n",
       "       [15, 1, 1, 1, 1],\n",
       "       [52, 1, 1, 2, 2],\n",
       "       [18, 0, 0, 5, 3]], dtype=object)"
      ]
     },
     "execution_count": 68,
     "metadata": {},
     "output_type": "execute_result"
    }
   ],
   "source": [
    "X_trainset"
   ]
  },
  {
   "cell_type": "code",
   "execution_count": 69,
   "metadata": {},
   "outputs": [
    {
     "data": {
      "text/plain": [
       "DecisionTreeClassifier(class_weight=None, criterion='entropy', max_depth=4,\n",
       "                       max_features=None, max_leaf_nodes=None,\n",
       "                       min_impurity_decrease=0.0, min_impurity_split=None,\n",
       "                       min_samples_leaf=1, min_samples_split=2,\n",
       "                       min_weight_fraction_leaf=0.0, presort=False,\n",
       "                       random_state=None, splitter='best')"
      ]
     },
     "execution_count": 69,
     "metadata": {},
     "output_type": "execute_result"
    }
   ],
   "source": [
    "sampahTree = DecisionTreeClassifier(criterion=\"entropy\", max_depth = 4)\n",
    "sampahTree # it shows the default parameters"
   ]
  },
  {
   "cell_type": "code",
   "execution_count": 70,
   "metadata": {},
   "outputs": [
    {
     "data": {
      "text/plain": [
       "92     Pemanfaatan sampah anorganik untuk bahan daur ...\n",
       "70     1. Komposter rumah tangga adalah tempat membua...\n",
       "87     Pemanfaatan sampah anorganik untuk bahan daur ...\n",
       "58     1. Komposter rumah tangga adalah tempat membua...\n",
       "30     1. Metode komposter pot ini menggunakan pot.; ...\n",
       "85     Jenis-jenis kerajinan tangan tersebut berasal ...\n",
       "13     1. Metode komposter pot ini menggunakan pot.; ...\n",
       "31     1. Metode komposter pot ini menggunakan pot.; ...\n",
       "59     1. Komposter rumah tangga adalah tempat membua...\n",
       "11     1. Metode komposter pot ini menggunakan pot.; ...\n",
       "88     Pemanfaatan sampah anorganik untuk bahan daur ...\n",
       "47     1. Komposter rumah tangga adalah tempat membua...\n",
       "32     1. Metode komposter pot ini menggunakan pot.; ...\n",
       "75     1. Komposter rumah tangga adalah tempat membua...\n",
       "16     1. Metode komposter pot ini menggunakan pot.; ...\n",
       "27     1. Metode komposter pot ini menggunakan pot.; ...\n",
       "35     1. Komposter rumah tangga adalah tempat membua...\n",
       "36     1. Komposter rumah tangga adalah tempat membua...\n",
       "77     Jenis-jenis kerajinan tangan tersebut berasal ...\n",
       "101    Istilah reusable ini merupakan sebuah tindakan...\n",
       "53     1. Komposter rumah tangga adalah tempat membua...\n",
       "71     1. Komposter rumah tangga adalah tempat membua...\n",
       "84     Jenis-jenis kerajinan tangan tersebut berasal ...\n",
       "107    Istilah reusable ini merupakan sebuah tindakan...\n",
       "76     Jenis-jenis kerajinan tangan tersebut berasal ...\n",
       "46     1. Komposter rumah tangga adalah tempat membua...\n",
       "67     1. Komposter rumah tangga adalah tempat membua...\n",
       "78     Jenis-jenis kerajinan tangan tersebut berasal ...\n",
       "65     1. Komposter rumah tangga adalah tempat membua...\n",
       "108    Istilah reusable ini merupakan sebuah tindakan...\n",
       "                             ...                        \n",
       "69     1. Komposter rumah tangga adalah tempat membua...\n",
       "51     1. Komposter rumah tangga adalah tempat membua...\n",
       "1      1. Media yang digunakan dalam metode kascing i...\n",
       "60     1. Komposter rumah tangga adalah tempat membua...\n",
       "63     1. Komposter rumah tangga adalah tempat membua...\n",
       "2      1. Media yang digunakan dalam metode kascing i...\n",
       "66     1. Komposter rumah tangga adalah tempat membua...\n",
       "22     1. Metode komposter pot ini menggunakan pot.; ...\n",
       "90     Pemanfaatan sampah anorganik untuk bahan daur ...\n",
       "81     Jenis-jenis kerajinan tangan tersebut berasal ...\n",
       "26     1. Metode komposter pot ini menggunakan pot.; ...\n",
       "14     1. Metode komposter pot ini menggunakan pot.; ...\n",
       "39     1. Komposter rumah tangga adalah tempat membua...\n",
       "93     Pemanfaatan sampah anorganik untuk bahan daur ...\n",
       "44     1. Komposter rumah tangga adalah tempat membua...\n",
       "20     1. Metode komposter pot ini menggunakan pot.; ...\n",
       "96     Pemanfaatan sampah anorganik untuk bahan daur ...\n",
       "38     1. Komposter rumah tangga adalah tempat membua...\n",
       "105    Istilah reusable ini merupakan sebuah tindakan...\n",
       "10     1. Media yang digunakan dalam metode kascing i...\n",
       "41     1. Komposter rumah tangga adalah tempat membua...\n",
       "74     1. Komposter rumah tangga adalah tempat membua...\n",
       "19     1. Metode komposter pot ini menggunakan pot.; ...\n",
       "21     1. Metode komposter pot ini menggunakan pot.; ...\n",
       "0      1. Media yang digunakan dalam metode kascing i...\n",
       "72     1. Komposter rumah tangga adalah tempat membua...\n",
       "56     1. Komposter rumah tangga adalah tempat membua...\n",
       "3      1. Media yang digunakan dalam metode kascing i...\n",
       "24     1. Metode komposter pot ini menggunakan pot.; ...\n",
       "106    Istilah reusable ini merupakan sebuah tindakan...\n",
       "Name: Cara Pengelolaan, Length: 78, dtype: object"
      ]
     },
     "execution_count": 70,
     "metadata": {},
     "output_type": "execute_result"
    }
   ],
   "source": [
    "y_trainset"
   ]
  },
  {
   "cell_type": "code",
   "execution_count": 71,
   "metadata": {},
   "outputs": [
    {
     "data": {
      "text/plain": [
       "DecisionTreeClassifier(class_weight=None, criterion='entropy', max_depth=4,\n",
       "                       max_features=None, max_leaf_nodes=None,\n",
       "                       min_impurity_decrease=0.0, min_impurity_split=None,\n",
       "                       min_samples_leaf=1, min_samples_split=2,\n",
       "                       min_weight_fraction_leaf=0.0, presort=False,\n",
       "                       random_state=None, splitter='best')"
      ]
     },
     "execution_count": 71,
     "metadata": {},
     "output_type": "execute_result"
    }
   ],
   "source": [
    "sampahTree.fit(X_trainset,y_trainset)"
   ]
  },
  {
   "cell_type": "code",
   "execution_count": 73,
   "metadata": {},
   "outputs": [],
   "source": [
    "predTree = sampahTree.predict(X_testset)"
   ]
  },
  {
   "cell_type": "code",
   "execution_count": 74,
   "metadata": {},
   "outputs": [
    {
     "name": "stdout",
     "output_type": "stream",
     "text": [
      "['Istilah reusable ini merupakan sebuah tindakan untuk menggunakan berbagai sampah yang bersifat anorganik. Sampah-sampah tersebut ketika sudah tidak dipakai lagi, maka tidak perlu dibuang sehingga tidak menjadi\\xa0limbah\\xa0yang mengotori lingkungan sekitar.'\n",
      " 'Istilah reusable ini merupakan sebuah tindakan untuk menggunakan berbagai sampah yang bersifat anorganik. Sampah-sampah tersebut ketika sudah tidak dipakai lagi, maka tidak perlu dibuang sehingga tidak menjadi\\xa0limbah\\xa0yang mengotori lingkungan sekitar.'\n",
      " \"1. Media yang digunakan dalam metode kascing itu menggunakan tanah, kompos, dan kotoran hewan (misal kotoran sapi) dengan perbandingan 1 : 1 : 3; 2. Setelah semua diaduk, media tersebut dimasukkan ke dalam wadah dengan ditambahkan air, sehingga kadar air media menjadi 55%. ; 3. Barulah setelah itu, cacing tanah (cacing kalung) ditambahkan ke dalam media dengan jarak 5 cm.; 4. Tinggi media tidak boleh lebih dari 60 cm. Sebab perlu diingat bahwa cacing itu sifatnya sering masuk dan ke luar dari tanah untuk bernapas.; 5. Kisaran masuk ke dalam tanahnya itu sekitar 60 cm. Lebih dari itu, cacing tidak mau. Jadi kemungkinan besar, media yang berada di bawah 60 cm dari permukaan, tidak akan 'diolah' cacing.; 6. Sekitar 2 hari dari penambahan cacing, kascing sudah bisa dipanen.\"\n",
      " \"1. Media yang digunakan dalam metode kascing itu menggunakan tanah, kompos, dan kotoran hewan (misal kotoran sapi) dengan perbandingan 1 : 1 : 3; 2. Setelah semua diaduk, media tersebut dimasukkan ke dalam wadah dengan ditambahkan air, sehingga kadar air media menjadi 55%. ; 3. Barulah setelah itu, cacing tanah (cacing kalung) ditambahkan ke dalam media dengan jarak 5 cm.; 4. Tinggi media tidak boleh lebih dari 60 cm. Sebab perlu diingat bahwa cacing itu sifatnya sering masuk dan ke luar dari tanah untuk bernapas.; 5. Kisaran masuk ke dalam tanahnya itu sekitar 60 cm. Lebih dari itu, cacing tidak mau. Jadi kemungkinan besar, media yang berada di bawah 60 cm dari permukaan, tidak akan 'diolah' cacing.; 6. Sekitar 2 hari dari penambahan cacing, kascing sudah bisa dipanen.\"\n",
      " '1. Komposter rumah tangga adalah tempat membuat kompos yang ukurannya besar dan ditanam di dalam tanah.Untuk 1 rumah tangga, komposter ini bisa penuh dalam waktu 7 bulan. Barulah dengan didiamkan selama 3 bulan, kompos akan siap dipanen. ; 2. Tapi dalam 1 rumah tangga, komposter seperti ini harus 2. Jadi saat menunggu kompos jadi, kita memasukkan sampah ke komposter tanam yang lain. ; 3. Kompos yang dihasilkan, sebelum dipakai sebagai media tanam harus dicampurkan dengan tanah dengan perbandingan kompos : tanah itu 1 : 3. Sebab jika langsung, komposnya bersifat panas.']\n",
      "99     Istilah reusable ini merupakan sebuah tindakan...\n",
      "104    Istilah reusable ini merupakan sebuah tindakan...\n",
      "6      1. Media yang digunakan dalam metode kascing i...\n",
      "5      1. Media yang digunakan dalam metode kascing i...\n",
      "40     1. Komposter rumah tangga adalah tempat membua...\n",
      "Name: Cara Pengelolaan, dtype: object\n"
     ]
    }
   ],
   "source": [
    "print (predTree [0:5])\n",
    "print (y_testset [0:5])"
   ]
  },
  {
   "cell_type": "code",
   "execution_count": 75,
   "metadata": {},
   "outputs": [
    {
     "name": "stdout",
     "output_type": "stream",
     "text": [
      "DecisionTrees's Accuracy:  1.0\n"
     ]
    }
   ],
   "source": [
    "from sklearn import metrics\n",
    "import matplotlib.pyplot as plt\n",
    "print(\"DecisionTrees's Accuracy: \", metrics.accuracy_score(y_testset, predTree))"
   ]
  },
  {
   "cell_type": "code",
   "execution_count": 76,
   "metadata": {},
   "outputs": [
    {
     "name": "stderr",
     "output_type": "stream",
     "text": [
      "C:\\Users\\ASUS\\Anaconda3\\lib\\site-packages\\sklearn\\externals\\six.py:31: DeprecationWarning: The module is deprecated in version 0.21 and will be removed in version 0.23 since we've dropped support for Python 2.7. Please rely on the official version of six (https://pypi.org/project/six/).\n",
      "  \"(https://pypi.org/project/six/).\", DeprecationWarning)\n"
     ]
    }
   ],
   "source": [
    "from sklearn.externals.six import StringIO\n",
    "import pydotplus\n",
    "import matplotlib.image as mpimg\n",
    "from sklearn import tree\n",
    "%matplotlib inline"
   ]
  },
  {
   "cell_type": "code",
   "execution_count": 77,
   "metadata": {},
   "outputs": [
    {
     "data": {
      "text/plain": [
       "<matplotlib.image.AxesImage at 0x1fe0005eef0>"
      ]
     },
     "execution_count": 77,
     "metadata": {},
     "output_type": "execute_result"
    },
    {
     "data": {
      "image/png": "[encoded data removed]",
      "text/plain": [
       "<Figure size 7200x14400 with 1 Axes>"
      ]
     },
     "metadata": {
      "needs_background": "light"
     },
     "output_type": "display_data"
    }
   ],
   "source": [
    "dot_data = StringIO()\n",
    "filename = \"sampahtree.png\"\n",
    "featureNames = my_data.columns[0:5]\n",
    "targetNames = my_data[\"Cara Pengelolaan\"].unique().tolist()\n",
    "out=tree.export_graphviz(sampahTree,feature_names=featureNames, out_file=dot_data, class_names= np.unique(y_trainset), filled=True,  special_characters=True,rotate=False)  \n",
    "graph = pydotplus.graph_from_dot_data(dot_data.getvalue())  \n",
    "graph.write_png(filename)\n",
    "img = mpimg.imread(filename)\n",
    "plt.figure(figsize=(100, 200))\n",
    "plt.imshow(img,interpolation='nearest')"
   ]
  },
  {
   "cell_type": "code",
   "execution_count": null,
   "metadata": {},
   "outputs": [],
   "source": []
  }
 ],
 "metadata": {
  "kernelspec": {
   "display_name": "Python 3",
   "language": "python",
   "name": "python3"
  },
  "language_info": {
   "codemirror_mode": {
    "name": "ipython",
    "version": 3
   },
   "file_extension": ".py",
   "mimetype": "text/x-python",
   "name": "python",
   "nbconvert_exporter": "python",
   "pygments_lexer": "ipython3",
   "version": "3.7.3"
  }
 },
 "nbformat": 4,
 "nbformat_minor": 2
}
